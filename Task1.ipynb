{
 "cells": [
  {
   "cell_type": "code",
   "execution_count": 2,
   "id": "1b480b30",
   "metadata": {},
   "outputs": [
    {
     "name": "stdout",
     "output_type": "stream",
     "text": [
      "     您的年級 您的性別 最喜歡喝的飲料種類\n",
      "0      大一  生理女        奶類\n",
      "1      大一  生理女        奶類\n",
      "2      大一  生理女      一般茶類\n",
      "3      大一  生理女      鮮果茶類\n",
      "4      大二  生理女        奶類\n",
      "..    ...  ...       ...\n",
      "114    大一  生理男        奶類\n",
      "115    大二  生理男      鮮果茶類\n",
      "116  大五以上  生理男      一般茶類\n",
      "117    大一  生理男      一般茶類\n",
      "118    大一  生理女        奶類\n",
      "\n",
      "[119 rows x 3 columns]\n"
     ]
    }
   ],
   "source": [
    "import pandas as pd\n",
    "data = pd.read_csv(\"Survey.csv\")\n",
    "print(data)"
   ]
  },
  {
   "cell_type": "raw",
   "id": "7dab7157",
   "metadata": {},
   "source": []
  },
  {
   "cell_type": "code",
   "execution_count": 3,
   "id": "cfa9815f",
   "metadata": {},
   "outputs": [
    {
     "name": "stdout",
     "output_type": "stream",
     "text": [
      "總共人數 119\n"
     ]
    }
   ],
   "source": [
    "gennder = list(data[\"您的性別\"])\n",
    "print(\"總共人數\", len(data))"
   ]
  },
  {
   "cell_type": "code",
   "execution_count": 4,
   "id": "cd191e59",
   "metadata": {},
   "outputs": [
    {
     "name": "stdout",
     "output_type": "stream",
     "text": [
      "0      生理女\n",
      "1      生理女\n",
      "2      生理女\n",
      "3      生理女\n",
      "4      生理女\n",
      "      ... \n",
      "114    生理男\n",
      "115    生理男\n",
      "116    生理男\n",
      "117    生理男\n",
      "118    生理女\n",
      "Name: 您的性別, Length: 119, dtype: object\n"
     ]
    }
   ],
   "source": [
    "print (data[\"您的性別\"])"
   ]
  },
  {
   "cell_type": "code",
   "execution_count": 7,
   "id": "37ef6299",
   "metadata": {},
   "outputs": [
    {
     "ename": "NameError",
     "evalue": "name 'girl' is not defined",
     "output_type": "error",
     "traceback": [
      "\u001b[1;31m---------------------------------------------------------------------------\u001b[0m",
      "\u001b[1;31mNameError\u001b[0m                                 Traceback (most recent call last)",
      "\u001b[1;32m~\\AppData\\Local\\Temp\\ipykernel_2640\\2586522537.py\u001b[0m in \u001b[0;36m<module>\u001b[1;34m\u001b[0m\n\u001b[0;32m      1\u001b[0m \u001b[0mgirls\u001b[0m \u001b[1;33m=\u001b[0m \u001b[0mdata\u001b[0m\u001b[1;33m[\u001b[0m\u001b[0mdata\u001b[0m\u001b[1;33m[\u001b[0m\u001b[1;34m'您的性別'\u001b[0m\u001b[1;33m]\u001b[0m\u001b[1;33m.\u001b[0m\u001b[0mstr\u001b[0m\u001b[1;33m.\u001b[0m\u001b[0mcontains\u001b[0m\u001b[1;33m(\u001b[0m\u001b[1;34m\"生理女\"\u001b[0m\u001b[1;33m)\u001b[0m\u001b[1;33m]\u001b[0m\u001b[1;33m\u001b[0m\u001b[1;33m\u001b[0m\u001b[0m\n\u001b[1;32m----> 2\u001b[1;33m \u001b[0mgirl\u001b[0m\u001b[1;33m.\u001b[0m\u001b[0mtail\u001b[0m\u001b[1;33m(\u001b[0m\u001b[1;36m4\u001b[0m\u001b[1;33m)\u001b[0m\u001b[1;33m\u001b[0m\u001b[1;33m\u001b[0m\u001b[0m\n\u001b[0m",
      "\u001b[1;31mNameError\u001b[0m: name 'girl' is not defined"
     ]
    }
   ],
   "source": [
    "girls = data[data['您的性別'].str.contains(\"生理女\")]\n",
    "girl.tail(4)"
   ]
  },
  {
   "cell_type": "code",
   "execution_count": null,
   "id": "2d0f0e04",
   "metadata": {},
   "outputs": [],
   "source": []
  },
  {
   "cell_type": "code",
   "execution_count": null,
   "id": "80b533b9",
   "metadata": {},
   "outputs": [],
   "source": []
  }
 ],
 "metadata": {
  "kernelspec": {
   "display_name": "Python 3 (ipykernel)",
   "language": "python",
   "name": "python3"
  },
  "language_info": {
   "codemirror_mode": {
    "name": "ipython",
    "version": 3
   },
   "file_extension": ".py",
   "mimetype": "text/x-python",
   "name": "python",
   "nbconvert_exporter": "python",
   "pygments_lexer": "ipython3",
   "version": "3.9.13"
  }
 },
 "nbformat": 4,
 "nbformat_minor": 5
}
