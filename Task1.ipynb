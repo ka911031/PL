{
 "cells": [
  {
   "cell_type": "code",
   "execution_count": 10,
   "id": "1b480b30",
   "metadata": {},
   "outputs": [
    {
     "name": "stdout",
     "output_type": "stream",
     "text": [
      "       年級 性別 平常的運動\n",
      "0      大一  女    排球\n",
      "1      大一  女    籃球\n",
      "2      大一  女    桌球\n",
      "3      大一  女    跑步\n",
      "4      大二  女    羽球\n",
      "..    ... ..   ...\n",
      "113    大一  男    排球\n",
      "114    大一  男    籃球\n",
      "115    大二  男    桌球\n",
      "116  大五以上  男    跑步\n",
      "117    大一  男    羽球\n",
      "\n",
      "[118 rows x 3 columns]\n"
     ]
    }
   ],
   "source": [
    "import pandas as pd\n",
    "data = pd.read_csv(\"Survey.csv\")\n",
    "print(data)"
   ]
  },
  {
   "cell_type": "code",
   "execution_count": 11,
   "id": "cfa9815f",
   "metadata": {},
   "outputs": [
    {
     "name": "stdout",
     "output_type": "stream",
     "text": [
      "總共人數 118\n"
     ]
    }
   ],
   "source": [
    "gennder = list(data[\"性別\"])\n",
    "print(\"總共人數\", len(data))"
   ]
  },
  {
   "cell_type": "code",
   "execution_count": 12,
   "id": "37ef6299",
   "metadata": {},
   "outputs": [
    {
     "data": {
      "text/html": [
       "<div>\n",
       "<style scoped>\n",
       "    .dataframe tbody tr th:only-of-type {\n",
       "        vertical-align: middle;\n",
       "    }\n",
       "\n",
       "    .dataframe tbody tr th {\n",
       "        vertical-align: top;\n",
       "    }\n",
       "\n",
       "    .dataframe thead th {\n",
       "        text-align: right;\n",
       "    }\n",
       "</style>\n",
       "<table border=\"1\" class=\"dataframe\">\n",
       "  <thead>\n",
       "    <tr style=\"text-align: right;\">\n",
       "      <th></th>\n",
       "      <th>年級</th>\n",
       "      <th>性別</th>\n",
       "      <th>平常的運動</th>\n",
       "    </tr>\n",
       "  </thead>\n",
       "  <tbody>\n",
       "    <tr>\n",
       "      <th>61</th>\n",
       "      <td>大一</td>\n",
       "      <td>女</td>\n",
       "      <td>羽球</td>\n",
       "    </tr>\n",
       "    <tr>\n",
       "      <th>62</th>\n",
       "      <td>大一</td>\n",
       "      <td>女</td>\n",
       "      <td>跑步</td>\n",
       "    </tr>\n",
       "    <tr>\n",
       "      <th>63</th>\n",
       "      <td>大一</td>\n",
       "      <td>女</td>\n",
       "      <td>排球</td>\n",
       "    </tr>\n",
       "    <tr>\n",
       "      <th>64</th>\n",
       "      <td>大三</td>\n",
       "      <td>女</td>\n",
       "      <td>排球</td>\n",
       "    </tr>\n",
       "  </tbody>\n",
       "</table>\n",
       "</div>"
      ],
      "text/plain": [
       "    年級 性別 平常的運動\n",
       "61  大一  女    羽球\n",
       "62  大一  女    跑步\n",
       "63  大一  女    排球\n",
       "64  大三  女    排球"
      ]
     },
     "execution_count": 12,
     "metadata": {},
     "output_type": "execute_result"
    }
   ],
   "source": [
    "girls = data[data['性別'].str.contains(\"女\")]\n",
    "girls.tail(4)"
   ]
  },
  {
   "cell_type": "code",
   "execution_count": 13,
   "id": "2d0f0e04",
   "metadata": {},
   "outputs": [
    {
     "data": {
      "text/html": [
       "<div>\n",
       "<style scoped>\n",
       "    .dataframe tbody tr th:only-of-type {\n",
       "        vertical-align: middle;\n",
       "    }\n",
       "\n",
       "    .dataframe tbody tr th {\n",
       "        vertical-align: top;\n",
       "    }\n",
       "\n",
       "    .dataframe thead th {\n",
       "        text-align: right;\n",
       "    }\n",
       "</style>\n",
       "<table border=\"1\" class=\"dataframe\">\n",
       "  <thead>\n",
       "    <tr style=\"text-align: right;\">\n",
       "      <th></th>\n",
       "      <th>年級</th>\n",
       "      <th>性別</th>\n",
       "      <th>平常的運動</th>\n",
       "    </tr>\n",
       "  </thead>\n",
       "  <tbody>\n",
       "    <tr>\n",
       "      <th>105</th>\n",
       "      <td>大一</td>\n",
       "      <td>男</td>\n",
       "      <td>排球</td>\n",
       "    </tr>\n",
       "    <tr>\n",
       "      <th>111</th>\n",
       "      <td>大一</td>\n",
       "      <td>男</td>\n",
       "      <td>排球</td>\n",
       "    </tr>\n",
       "    <tr>\n",
       "      <th>112</th>\n",
       "      <td>大一</td>\n",
       "      <td>男</td>\n",
       "      <td>排球</td>\n",
       "    </tr>\n",
       "    <tr>\n",
       "      <th>113</th>\n",
       "      <td>大一</td>\n",
       "      <td>男</td>\n",
       "      <td>排球</td>\n",
       "    </tr>\n",
       "  </tbody>\n",
       "</table>\n",
       "</div>"
      ],
      "text/plain": [
       "     年級 性別 平常的運動\n",
       "105  大一  男    排球\n",
       "111  大一  男    排球\n",
       "112  大一  男    排球\n",
       "113  大一  男    排球"
      ]
     },
     "execution_count": 13,
     "metadata": {},
     "output_type": "execute_result"
    }
   ],
   "source": [
    "tea = data[data['平常的運動'].str.contains(\"排球\")]\n",
    "tea.tail(4)"
   ]
  },
  {
   "cell_type": "code",
   "execution_count": 14,
   "id": "80b533b9",
   "metadata": {},
   "outputs": [
    {
     "data": {
      "text/html": [
       "<div>\n",
       "<style scoped>\n",
       "    .dataframe tbody tr th:only-of-type {\n",
       "        vertical-align: middle;\n",
       "    }\n",
       "\n",
       "    .dataframe tbody tr th {\n",
       "        vertical-align: top;\n",
       "    }\n",
       "\n",
       "    .dataframe thead th {\n",
       "        text-align: right;\n",
       "    }\n",
       "</style>\n",
       "<table border=\"1\" class=\"dataframe\">\n",
       "  <thead>\n",
       "    <tr style=\"text-align: right;\">\n",
       "      <th></th>\n",
       "      <th>年級</th>\n",
       "      <th>性別</th>\n",
       "      <th>平常的運動</th>\n",
       "    </tr>\n",
       "  </thead>\n",
       "  <tbody>\n",
       "    <tr>\n",
       "      <th>0</th>\n",
       "      <td>大一</td>\n",
       "      <td>女</td>\n",
       "      <td>排球</td>\n",
       "    </tr>\n",
       "    <tr>\n",
       "      <th>6</th>\n",
       "      <td>大一</td>\n",
       "      <td>女</td>\n",
       "      <td>排球</td>\n",
       "    </tr>\n",
       "    <tr>\n",
       "      <th>7</th>\n",
       "      <td>大一</td>\n",
       "      <td>女</td>\n",
       "      <td>排球</td>\n",
       "    </tr>\n",
       "    <tr>\n",
       "      <th>9</th>\n",
       "      <td>大一</td>\n",
       "      <td>女</td>\n",
       "      <td>排球</td>\n",
       "    </tr>\n",
       "    <tr>\n",
       "      <th>15</th>\n",
       "      <td>大一</td>\n",
       "      <td>女</td>\n",
       "      <td>排球</td>\n",
       "    </tr>\n",
       "  </tbody>\n",
       "</table>\n",
       "</div>"
      ],
      "text/plain": [
       "    年級 性別 平常的運動\n",
       "0   大一  女    排球\n",
       "6   大一  女    排球\n",
       "7   大一  女    排球\n",
       "9   大一  女    排球\n",
       "15  大一  女    排球"
      ]
     },
     "execution_count": 14,
     "metadata": {},
     "output_type": "execute_result"
    }
   ],
   "source": [
    "intersection = data[(data[\"性別\"]==\"女\") & (data[\"平常的運動\"] == \"排球\")]\n",
    "\n",
    "intersection.head(5) "
   ]
  },
  {
   "cell_type": "code",
   "execution_count": 15,
   "id": "72656032",
   "metadata": {},
   "outputs": [
    {
     "data": {
      "text/html": [
       "<div>\n",
       "<style scoped>\n",
       "    .dataframe tbody tr th:only-of-type {\n",
       "        vertical-align: middle;\n",
       "    }\n",
       "\n",
       "    .dataframe tbody tr th {\n",
       "        vertical-align: top;\n",
       "    }\n",
       "\n",
       "    .dataframe thead th {\n",
       "        text-align: right;\n",
       "    }\n",
       "</style>\n",
       "<table border=\"1\" class=\"dataframe\">\n",
       "  <thead>\n",
       "    <tr style=\"text-align: right;\">\n",
       "      <th></th>\n",
       "      <th>年級</th>\n",
       "      <th>性別</th>\n",
       "      <th>平常的運動</th>\n",
       "    </tr>\n",
       "  </thead>\n",
       "  <tbody>\n",
       "    <tr>\n",
       "      <th>104</th>\n",
       "      <td>大一</td>\n",
       "      <td>男</td>\n",
       "      <td>排球</td>\n",
       "    </tr>\n",
       "    <tr>\n",
       "      <th>105</th>\n",
       "      <td>大一</td>\n",
       "      <td>男</td>\n",
       "      <td>排球</td>\n",
       "    </tr>\n",
       "    <tr>\n",
       "      <th>111</th>\n",
       "      <td>大一</td>\n",
       "      <td>男</td>\n",
       "      <td>排球</td>\n",
       "    </tr>\n",
       "    <tr>\n",
       "      <th>112</th>\n",
       "      <td>大一</td>\n",
       "      <td>男</td>\n",
       "      <td>排球</td>\n",
       "    </tr>\n",
       "    <tr>\n",
       "      <th>113</th>\n",
       "      <td>大一</td>\n",
       "      <td>男</td>\n",
       "      <td>排球</td>\n",
       "    </tr>\n",
       "  </tbody>\n",
       "</table>\n",
       "</div>"
      ],
      "text/plain": [
       "     年級 性別 平常的運動\n",
       "104  大一  男    排球\n",
       "105  大一  男    排球\n",
       "111  大一  男    排球\n",
       "112  大一  男    排球\n",
       "113  大一  男    排球"
      ]
     },
     "execution_count": 15,
     "metadata": {},
     "output_type": "execute_result"
    }
   ],
   "source": [
    "union = data[(data[\"性別\"]==\"女\") | (data[\"平常的運動\"] == \"排球\")]\n",
    "union.tail(5)"
   ]
  },
  {
   "cell_type": "code",
   "execution_count": 16,
   "id": "b04b9003",
   "metadata": {},
   "outputs": [
    {
     "data": {
      "text/html": [
       "<div>\n",
       "<style scoped>\n",
       "    .dataframe tbody tr th:only-of-type {\n",
       "        vertical-align: middle;\n",
       "    }\n",
       "\n",
       "    .dataframe tbody tr th {\n",
       "        vertical-align: top;\n",
       "    }\n",
       "\n",
       "    .dataframe thead th {\n",
       "        text-align: right;\n",
       "    }\n",
       "</style>\n",
       "<table border=\"1\" class=\"dataframe\">\n",
       "  <thead>\n",
       "    <tr style=\"text-align: right;\">\n",
       "      <th></th>\n",
       "      <th>年級</th>\n",
       "      <th>性別</th>\n",
       "      <th>平常的運動</th>\n",
       "    </tr>\n",
       "  </thead>\n",
       "  <tbody>\n",
       "    <tr>\n",
       "      <th>1</th>\n",
       "      <td>大一</td>\n",
       "      <td>女</td>\n",
       "      <td>籃球</td>\n",
       "    </tr>\n",
       "    <tr>\n",
       "      <th>2</th>\n",
       "      <td>大一</td>\n",
       "      <td>女</td>\n",
       "      <td>桌球</td>\n",
       "    </tr>\n",
       "    <tr>\n",
       "      <th>3</th>\n",
       "      <td>大一</td>\n",
       "      <td>女</td>\n",
       "      <td>跑步</td>\n",
       "    </tr>\n",
       "    <tr>\n",
       "      <th>4</th>\n",
       "      <td>大二</td>\n",
       "      <td>女</td>\n",
       "      <td>羽球</td>\n",
       "    </tr>\n",
       "    <tr>\n",
       "      <th>5</th>\n",
       "      <td>大一</td>\n",
       "      <td>女</td>\n",
       "      <td>跑步</td>\n",
       "    </tr>\n",
       "  </tbody>\n",
       "</table>\n",
       "</div>"
      ],
      "text/plain": [
       "   年級 性別 平常的運動\n",
       "1  大一  女    籃球\n",
       "2  大一  女    桌球\n",
       "3  大一  女    跑步\n",
       "4  大二  女    羽球\n",
       "5  大一  女    跑步"
      ]
     },
     "execution_count": 16,
     "metadata": {},
     "output_type": "execute_result"
    }
   ],
   "source": [
    "difference = data[(data[\"性別\"]==\"女\") & (data[\"平常的運動\"] != \"排球\") ]\n",
    "difference.head(5)"
   ]
  },
  {
   "cell_type": "code",
   "execution_count": 17,
   "id": "1b753fd5",
   "metadata": {},
   "outputs": [
    {
     "data": {
      "text/html": [
       "<div>\n",
       "<style scoped>\n",
       "    .dataframe tbody tr th:only-of-type {\n",
       "        vertical-align: middle;\n",
       "    }\n",
       "\n",
       "    .dataframe tbody tr th {\n",
       "        vertical-align: top;\n",
       "    }\n",
       "\n",
       "    .dataframe thead th {\n",
       "        text-align: right;\n",
       "    }\n",
       "</style>\n",
       "<table border=\"1\" class=\"dataframe\">\n",
       "  <thead>\n",
       "    <tr style=\"text-align: right;\">\n",
       "      <th></th>\n",
       "      <th>年級</th>\n",
       "      <th>性別</th>\n",
       "      <th>平常的運動</th>\n",
       "    </tr>\n",
       "  </thead>\n",
       "  <tbody>\n",
       "    <tr>\n",
       "      <th>104</th>\n",
       "      <td>大一</td>\n",
       "      <td>男</td>\n",
       "      <td>排球</td>\n",
       "    </tr>\n",
       "    <tr>\n",
       "      <th>105</th>\n",
       "      <td>大一</td>\n",
       "      <td>男</td>\n",
       "      <td>排球</td>\n",
       "    </tr>\n",
       "    <tr>\n",
       "      <th>111</th>\n",
       "      <td>大一</td>\n",
       "      <td>男</td>\n",
       "      <td>排球</td>\n",
       "    </tr>\n",
       "    <tr>\n",
       "      <th>112</th>\n",
       "      <td>大一</td>\n",
       "      <td>男</td>\n",
       "      <td>排球</td>\n",
       "    </tr>\n",
       "    <tr>\n",
       "      <th>113</th>\n",
       "      <td>大一</td>\n",
       "      <td>男</td>\n",
       "      <td>排球</td>\n",
       "    </tr>\n",
       "  </tbody>\n",
       "</table>\n",
       "</div>"
      ],
      "text/plain": [
       "     年級 性別 平常的運動\n",
       "104  大一  男    排球\n",
       "105  大一  男    排球\n",
       "111  大一  男    排球\n",
       "112  大一  男    排球\n",
       "113  大一  男    排球"
      ]
     },
     "execution_count": 17,
     "metadata": {},
     "output_type": "execute_result"
    }
   ],
   "source": [
    "symmetric_difference = data[(data[\"性別\"]==\"女\") ^ (data[\"平常的運動\"] == \"排球\")]\n",
    "symmetric_difference.tail(5)"
   ]
  }
 ],
 "metadata": {
  "kernelspec": {
   "display_name": "Python 3 (ipykernel)",
   "language": "python",
   "name": "python3"
  },
  "language_info": {
   "codemirror_mode": {
    "name": "ipython",
    "version": 3
   },
   "file_extension": ".py",
   "mimetype": "text/x-python",
   "name": "python",
   "nbconvert_exporter": "python",
   "pygments_lexer": "ipython3",
   "version": "3.9.13"
  }
 },
 "nbformat": 4,
 "nbformat_minor": 5
}
